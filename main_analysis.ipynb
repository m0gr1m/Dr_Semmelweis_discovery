{
 "cells": [
  {
   "cell_type": "markdown",
   "source": [
    "# Doctor Semmelweis discovery\r\n",
    "\r\n",
    "## Motivation\r\n",
    "\r\n",
    "The data that Doctor Semmelweis collected is very well documented, so it is a valuable resource for learning how to perform statistical tests comparing two groups. \r\n",
    "\r\n",
    "The knowledge gained in this way can then be used to perform similar tests on other data sets. For example, it can help determine whether the risk of heart attack depends on the degree of obesity or whether smoking cigarettes increases the chance of lung cancer. In technical issues, for example, it can determine whether the same product produced on machine A is different from that produced on machine B.\r\n",
    "\r\n",
    "### Main goal\r\n",
    "\r\n",
    "To determine by statistical methods whether:\r\n",
    "\r\n",
    "+ there is a difference between the mortality rate in the first clinic, where doctors and students delivered babies, and the second clinic, where only midwives did so,\r\n",
    "+ the mortality rate decreased significantly in Doctor Semmelweis' clinic after he recommended that the attendants wash their hands. <br /> \r\n",
    "Mandatory hand washing before delivered babies: 1 June 1847. \r\n",
    "\r\n",
    "### Side goal\r\n",
    "\r\n",
    "+ Better understanding of Python and statistical methods."
   ],
   "metadata": {}
  },
  {
   "cell_type": "markdown",
   "source": [
    "# Libraries and data loading"
   ],
   "metadata": {}
  },
  {
   "cell_type": "code",
   "execution_count": 1,
   "source": [
    "import pandas as pd\r\n",
    "import matplotlib as plt\r\n",
    "import seaborn as sns\r\n",
    "import numpy as np\r\n",
    "import scipy.stats as st"
   ],
   "outputs": [],
   "metadata": {}
  },
  {
   "cell_type": "code",
   "execution_count": 2,
   "source": [
    "plt.rcParams['figure.figsize'] = [10, 8]  # for size of figures"
   ],
   "outputs": [],
   "metadata": {}
  },
  {
   "cell_type": "code",
   "execution_count": 3,
   "source": [
    "df_1 = pd.read_csv(\"monthly_deaths.csv\")\r\n",
    "df_2 = pd.read_csv(\"yearly_deaths_by_clinic.csv\")\r\n",
    "print(\"df_1:\", df_1.shape, \"df_2: \", df_2.shape)"
   ],
   "outputs": [
    {
     "output_type": "stream",
     "name": "stdout",
     "text": [
      "df_1: (98, 3) df_2:  (12, 4)\n"
     ]
    }
   ],
   "metadata": {}
  },
  {
   "cell_type": "markdown",
   "source": [
    "# Data preview and manipulations"
   ],
   "metadata": {}
  },
  {
   "cell_type": "code",
   "execution_count": 4,
   "source": [
    "print(\"df_1 dtypes:\")\r\n",
    "print(df_1.dtypes)\r\n",
    "print()\r\n",
    "print(\"df_2 dtypes:\")\r\n",
    "print(df_2.dtypes)\r\n"
   ],
   "outputs": [
    {
     "output_type": "stream",
     "name": "stdout",
     "text": [
      "df_1 dtypes:\n",
      "date      object\n",
      "births     int64\n",
      "deaths     int64\n",
      "dtype: object\n",
      "\n",
      "df_2 dtypes:\n",
      "year       int64\n",
      "births     int64\n",
      "deaths     int64\n",
      "clinic    object\n",
      "dtype: object\n"
     ]
    }
   ],
   "metadata": {}
  },
  {
   "cell_type": "markdown",
   "source": [
    "Since the data type of the *date* variable (df_1) and the *year* variable (df_2) are in the wrong format, we will perform a conversion."
   ],
   "metadata": {}
  },
  {
   "cell_type": "code",
   "execution_count": 5,
   "source": [
    "df_1[\"date\"] = pd.to_datetime(df_1.date)\r\n",
    "df_2[\"year\"] = pd.to_datetime(df_2.year).dt.year"
   ],
   "outputs": [],
   "metadata": {}
  },
  {
   "cell_type": "markdown",
   "source": [
    "Since the number of births in a given period is not constant, we need to create an additional column with the proportion of deaths in order to compare mortality due to puerperal fever.\r\n",
    "\r\n",
    "$ births \\rightarrow 1 $ <br />\r\n",
    "$ deaths \\rightarrow x $\r\n",
    "\r\n",
    "If we divide deaths by births we get a number between 0 and 1 indicating what proportion of births are those that ended with a death."
   ],
   "metadata": {}
  },
  {
   "cell_type": "code",
   "execution_count": 6,
   "source": [
    "df_1[\"proportion_deaths\"] = df_1[\"deaths\"]/df_1[\"births\"]\r\n",
    "df_2[\"proportion_deaths\"] = df_2[\"deaths\"]/df_2[\"births\"]"
   ],
   "outputs": [],
   "metadata": {}
  },
  {
   "cell_type": "markdown",
   "source": [
    "We will add an additional variable to the database to specify whether hand washing was mandatory on a given date."
   ],
   "metadata": {}
  },
  {
   "cell_type": "code",
   "execution_count": 17,
   "source": [
    "handwashing = []\r\n",
    "mhw_day = pd.to_datetime(\"1847/6/1\")\r\n",
    "\r\n",
    "for row in df_1[\"date\"]:\r\n",
    "    if row >= mhw_day: handwashing.append(\"mandatory\")\r\n",
    "    else: handwashing.append(\"not mandatory\")\r\n",
    "\r\n",
    "df_1[\"handwashing\"] = handwashing"
   ],
   "outputs": [],
   "metadata": {}
  },
  {
   "cell_type": "markdown",
   "source": [
    "# Confidence Intervals for means"
   ],
   "metadata": {}
  },
  {
   "cell_type": "markdown",
   "source": [
    "## According to the clinic"
   ],
   "metadata": {}
  },
  {
   "cell_type": "markdown",
   "source": [
    "Since we are interested in the mean of the proportion of deaths, we can calculate confidence intervals for the mean.\r\n",
    "\r\n",
    "$ \\bar{x} \\pm t\\frac{s}{\\sqrt{n}} $ \r\n",
    "\r\n",
    "where: $\\bar{x}$ - sample mean, $t$ - the value of the chosen distribution with $n-1$ degrees of freedom (for small samples t-distribution, for large samples normal distribution), $s$ - sample standard deviation, $n$ - sample size\r\n",
    "\r\n",
    "In Python $\\frac{s}{\\sqrt{n}}$ can be calculated manually as `(np.std(x, ddof=1)/np.sqrt(np.size(x)))` or usung the function `sem(x)` from *scipy.stats*"
   ],
   "metadata": {}
  },
  {
   "cell_type": "code",
   "execution_count": 7,
   "source": [
    "degreesFreedom_c1 = len(df_2[df_2[\"clinic\"] == \"clinic 1\"])-1\r\n",
    "degreesFreedom_c2 = len(df_2[df_2[\"clinic\"] == \"clinic 2\"])-1\r\n",
    "alpha = 0.95\r\n",
    "\r\n",
    "clinic_1 = df_2.loc[df_2[\"clinic\"] == \"clinic 1\", [\"proportion_deaths\"]]\r\n",
    "clinic_2 = df_2.loc[df_2[\"clinic\"] == \"clinic 2\", [\"proportion_deaths\"]]\r\n",
    "\r\n",
    "ci_1 = st.t.interval(alpha=alpha, \r\n",
    "                     df=degreesFreedom_c1,\r\n",
    "                     loc = np.mean(clinic_1),\r\n",
    "                     scale = st.sem(clinic_1))\r\n",
    "\r\n",
    "ci_2 = st.t.interval(alpha=alpha,\r\n",
    "                     df=degreesFreedom_c2,\r\n",
    "                     loc=np.mean(clinic_2),\r\n",
    "                     scale=st.sem(clinic_2))\r\n",
    "\r\n",
    "print(\"Confidence intervals for mean of proportion deaths in clinic 1:\")\r\n",
    "print(\"mean: \", np.mean(clinic_1))\r\n",
    "print(\"Interval:\", ci_1[0], \" - \", ci_1[1])\r\n",
    "print()\r\n",
    "print(\"Confidence intervals for mean of proportion deaths in clinic 2:\")\r\n",
    "print(\"mean: \", np.mean(clinic_2))\r\n",
    "print(\"Interval:\", ci_2[0], \" - \", ci_2[1])"
   ],
   "outputs": [
    {
     "output_type": "stream",
     "name": "stdout",
     "text": [
      "Confidence intervals for mean of proportion deaths in clinic 1:\n",
      "mean:  proportion_deaths    0.098505\n",
      "dtype: float64\n",
      "Interval: [0.06409911]  -  [0.13291143]\n",
      "\n",
      "Confidence intervals for mean of proportion deaths in clinic 2:\n",
      "mean:  proportion_deaths    0.0404\n",
      "dtype: float64\n",
      "Interval: [0.0167942]  -  [0.06400567]\n"
     ]
    }
   ],
   "metadata": {}
  },
  {
   "cell_type": "markdown",
   "source": [
    "> There is a 95% chance that the confidence interval of [0.064, 0.133] contains the true population mean of proportion deaths for clinic 1.\r\n",
    "\r\n",
    "> There is a 95% chance that the confidence interval of [0.016, 0.064] contains the true population mean of proportion deaths for clinic 2.\r\n",
    "\r\n",
    "Comparing the two sample means, it can be concluded that the proportion of deaths in the clinic where births were delivered by midwives was lower than in the clinic where births were also delivered by doctors and students.\r\n",
    "\r\n",
    "In order to formulate a final judgment, an appropriate statistical test (*included in the next section*) must be performed."
   ],
   "metadata": {}
  },
  {
   "cell_type": "markdown",
   "source": [
    "## According to the mandatory hand washing"
   ],
   "metadata": {}
  },
  {
   "cell_type": "code",
   "execution_count": 13,
   "source": [
    "df_1.handwashing.value_counts()"
   ],
   "outputs": [
    {
     "output_type": "execute_result",
     "data": {
      "text/plain": [
       "not mandatory    76\n",
       "mandatory        22\n",
       "Name: handwashing, dtype: int64"
      ]
     },
     "metadata": {},
     "execution_count": 13
    }
   ],
   "metadata": {}
  },
  {
   "cell_type": "markdown",
   "source": [
    "Since we have less than 30 observations for mandatory handwashing we will use the t-distribution further on."
   ],
   "metadata": {}
  },
  {
   "cell_type": "code",
   "execution_count": 14,
   "source": [
    "df_1.groupby(\"handwashing\").proportion_deaths.mean()"
   ],
   "outputs": [
    {
     "output_type": "execute_result",
     "data": {
      "text/plain": [
       "handwashing\n",
       "mandatory        0.021093\n",
       "not mandatory    0.105050\n",
       "Name: proportion_deaths, dtype: float64"
      ]
     },
     "metadata": {},
     "execution_count": 14
    }
   ],
   "metadata": {}
  },
  {
   "cell_type": "code",
   "execution_count": 16,
   "source": [
    "degreesFreedom_mhwN = len(df_1[df_1[\"handwashing\"] == \"not mandatory\"])-1\r\n",
    "degreesFreedom_mhwY = len(df_1[df_1[\"handwashing\"] == \"mandatory\"])-1\r\n",
    "alpha = 0.95\r\n",
    "\r\n",
    "handwashing_N = df_1.loc[df_1[\"handwashing\"] == \"not mandatory\", [\"proportion_deaths\"]]\r\n",
    "handwashing_Y = df_1.loc[df_1[\"handwashing\"] == \"mandatory\", [\"proportion_deaths\"]]\r\n",
    "\r\n",
    "ci_N = st.t.interval(alpha=alpha,\r\n",
    "                     df=degreesFreedom_mhwN,\r\n",
    "                     loc=np.mean(handwashing_N),\r\n",
    "                     scale=st.sem(handwashing_N))\r\n",
    "\r\n",
    "ci_Y = st.t.interval(alpha=alpha,\r\n",
    "                     df=degreesFreedom_mhwY,\r\n",
    "                     loc=np.mean(handwashing_Y),\r\n",
    "                     scale=st.sem(handwashing_Y))\r\n",
    "\r\n",
    "print(\"Confidence intervals for mean of proportion deaths for not mandatory handwashing:\")\r\n",
    "print(\"mean: \", np.mean(handwashing_N))\r\n",
    "print(\"Interval:\", ci_N[0], \" - \", ci_N[1])\r\n",
    "print()\r\n",
    "print(\"Confidence intervals for mean of proportion deaths for mandatory handwashing:\")\r\n",
    "print(\"mean: \", np.mean(handwashing_Y))\r\n",
    "print(\"Interval:\", ci_Y[0], \" - \", ci_Y[1])\r\n"
   ],
   "outputs": [
    {
     "output_type": "stream",
     "name": "stdout",
     "text": [
      "Confidence intervals for mean of proportion deaths for not mandatory handwashing:\n",
      "mean:  proportion_deaths    0.10505\n",
      "dtype: float64\n",
      "Interval: [0.08888773]  -  [0.12121224]\n",
      "\n",
      "Confidence intervals for mean of proportion deaths for mandatory handwashing:\n",
      "mean:  proportion_deaths    0.021093\n",
      "dtype: float64\n",
      "Interval: [0.01435474]  -  [0.02783201]\n"
     ]
    }
   ],
   "metadata": {}
  },
  {
   "cell_type": "markdown",
   "source": [
    "> There is a 95% chance that the confidence interval of [0.087, 0.122] contains the true population mean of proportion deaths for not mandatory handwashing time period.\r\n",
    "\r\n",
    "> There is a 95% chance that the confidence interval of [0.014, 0.028] contains the true population mean of proportion deaths for mandatory handwashing time period.\r\n",
    "\r\n",
    "By comparing the two sample means, it can be believed that the enforcement of mandatory handwashing significantly reduced the average death proportion.\r\n",
    "\r\n",
    "In order to formulate a final judgment, an appropriate statistical test (*included in the next section*) must be performed."
   ],
   "metadata": {}
  }
 ],
 "metadata": {
  "orig_nbformat": 4,
  "language_info": {
   "name": "python",
   "version": "3.7.7",
   "mimetype": "text/x-python",
   "codemirror_mode": {
    "name": "ipython",
    "version": 3
   },
   "pygments_lexer": "ipython3",
   "nbconvert_exporter": "python",
   "file_extension": ".py"
  },
  "kernelspec": {
   "name": "python3",
   "display_name": "Python 3.7.7 64-bit ('base': conda)"
  },
  "interpreter": {
   "hash": "8afa578468b18b7d9e7d1a84014429987469e39db89a8d19a1b7ad805f04adc5"
  }
 },
 "nbformat": 4,
 "nbformat_minor": 2
}