{
 "cells": [
  {
   "cell_type": "markdown",
   "source": [
    "# Doctor Semmelweis discovery"
   ],
   "metadata": {}
  },
  {
   "cell_type": "code",
   "execution_count": 1,
   "source": [
    "import pandas as pd "
   ],
   "outputs": [],
   "metadata": {}
  },
  {
   "cell_type": "code",
   "execution_count": 4,
   "source": [
    "df_1 = pd.read_csv(\"monthly_deaths.csv\")\r\n",
    "df_2 = pd.read_csv(\"yearly_deaths_by_clinic.csv\")\r\n",
    "print(\"df_1:\", df_1.shape, \"df_2: \", df_2.shape)"
   ],
   "outputs": [
    {
     "output_type": "stream",
     "name": "stdout",
     "text": [
      "df_1: (98, 3) df_2:  (12, 4)\n"
     ]
    }
   ],
   "metadata": {}
  }
 ],
 "metadata": {
  "orig_nbformat": 4,
  "language_info": {
   "name": "python",
   "version": "3.7.7",
   "mimetype": "text/x-python",
   "codemirror_mode": {
    "name": "ipython",
    "version": 3
   },
   "pygments_lexer": "ipython3",
   "nbconvert_exporter": "python",
   "file_extension": ".py"
  },
  "kernelspec": {
   "name": "python3",
   "display_name": "Python 3.7.7 64-bit ('base': conda)"
  },
  "interpreter": {
   "hash": "8afa578468b18b7d9e7d1a84014429987469e39db89a8d19a1b7ad805f04adc5"
  }
 },
 "nbformat": 4,
 "nbformat_minor": 2
}